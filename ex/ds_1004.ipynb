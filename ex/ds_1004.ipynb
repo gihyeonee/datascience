{
 "cells": [
  {
   "cell_type": "code",
   "execution_count": 1,
   "source": [
    "import numpy as np"
   ],
   "outputs": [],
   "metadata": {}
  },
  {
   "cell_type": "code",
   "execution_count": 6,
   "source": [
    "\"\"\"\r\n",
    "NumPy Array Attributes\r\n",
    "\"\"\"\r\n",
    "\r\n",
    "# Creating an array\r\n",
    "print(np.arange(3)) #stop\r\n",
    "print(np.arange(2, 5)) # start, stop\r\n",
    "print(np.arange(1, 9, 2)) # start, stop, step"
   ],
   "outputs": [
    {
     "output_type": "stream",
     "name": "stdout",
     "text": [
      "[0 1 2]\n",
      "[2 3 4]\n",
      "[1 3 5 7]\n"
     ]
    }
   ],
   "metadata": {}
  },
  {
   "cell_type": "code",
   "execution_count": 136,
   "source": [
    "# Random number generator\r\n",
    "\r\n",
    "arr1 = np.random.randint(100, size=(5)) # 0 ~ 9\r\n",
    "print(arr1, \"\\n\")\r\n",
    "\r\n",
    "arr2 = np.random.randint(100, size=(3, 5))\r\n",
    "print(arr2, \"\\n\")\r\n",
    "\r\n",
    "arr3 = np.random.randint(100, size=(3, 5, 2))\r\n",
    "print(arr3)"
   ],
   "outputs": [
    {
     "output_type": "stream",
     "name": "stdout",
     "text": [
      "[96 31 46 90 74] \n",
      "\n",
      "[[95 56 79 52 90]\n",
      " [83  2 25 64 14]\n",
      " [ 1 26 50 89 37]] \n",
      "\n",
      "[[[34 23]\n",
      "  [14 53]\n",
      "  [12 63]\n",
      "  [58 40]\n",
      "  [40 85]]\n",
      "\n",
      " [[ 6 71]\n",
      "  [87  2]\n",
      "  [18 37]\n",
      "  [68  1]\n",
      "  [45 93]]\n",
      "\n",
      " [[26  7]\n",
      "  [17 80]\n",
      "  [64 69]\n",
      "  [96 94]\n",
      "  [78 20]]]\n"
     ]
    }
   ],
   "metadata": {}
  },
  {
   "cell_type": "code",
   "execution_count": 145,
   "source": [
    "# Attributes\r\n",
    "\r\n",
    "print(\"arr1.ndim = \", arr1.ndim) # 차원 개수\r\n",
    "print(\"arr2.ndim = \", arr2.shape) # 차원 정보\r\n",
    "print(\"arr2.size = \", arr2.size) # 전체 배열 크기(배열 원소 개수)\r\n",
    "\r\n",
    "print(\"arr2.dtype = \", arr2.dtype)\r\n",
    "print(\"arr2.itemsize = \", arr2.itemsize) # 원소 별 메모리 크기\r\n",
    "\r\n",
    "arr4 = np.array([1.5, 2.3, 3.4])\r\n",
    "print(\"arr4.itemsize = \", arr4.itemsize)\r\n",
    "\r\n",
    "print(\"arr2.nbytes = \", arr2.nbytes) # 전체 배열 메모리 크기"
   ],
   "outputs": [
    {
     "output_type": "stream",
     "name": "stdout",
     "text": [
      "arr1.ndim =  1\n",
      "arr2.ndim =  (3, 5)\n",
      "arr2.size =  15\n",
      "arr2.dtype =  int32\n",
      "arr2.itemsize =  4\n",
      "arr4.itemsize =  8\n",
      "arr2.nbytes =  60\n"
     ]
    }
   ],
   "metadata": {}
  },
  {
   "cell_type": "code",
   "execution_count": 224,
   "source": [
    "\"\"\"\r\n",
    "Subarrays as no-copy views\r\n",
    "\"\"\"\r\n",
    "np.random.seed(1)\r\n",
    "arr = np.random.randint(10, size=(3, 4))\r\n",
    "print(arr, \"\\n\")\r\n",
    "\r\n",
    "arr_sub = arr[:2, :2]\r\n",
    "print(arr_sub, \"\\n\")\r\n",
    "\r\n",
    "arr_sub[0, 0] = -1\r\n",
    "print(arr_sub, \"\\n\")\r\n",
    "print(arr)"
   ],
   "outputs": [
    {
     "output_type": "stream",
     "name": "stdout",
     "text": [
      "[[5 8 9 5]\n",
      " [0 0 1 7]\n",
      " [6 9 2 4]] \n",
      "\n",
      "[[5 8]\n",
      " [0 0]] \n",
      "\n",
      "[[-1  8]\n",
      " [ 0  0]] \n",
      "\n",
      "[[-1  8  9  5]\n",
      " [ 0  0  1  7]\n",
      " [ 6  9  2  4]]\n"
     ]
    }
   ],
   "metadata": {}
  },
  {
   "cell_type": "code",
   "execution_count": 228,
   "source": [
    "# .copy()\r\n",
    "np.random.seed(1)\r\n",
    "arr = np.random.randint(10, size=(3, 4))\r\n",
    "print(arr, \"\\n\")\r\n",
    "\r\n",
    "arr_sub = arr[:2, :2].copy()\r\n",
    "print(arr_sub, \"\\n\")\r\n",
    "\r\n",
    "arr_sub[0, 0] = -1\r\n",
    "print(arr_sub, \"\\n\")"
   ],
   "outputs": [
    {
     "output_type": "stream",
     "name": "stdout",
     "text": [
      "[[5 8 9 5]\n",
      " [0 0 1 7]\n",
      " [6 9 2 4]] \n",
      "\n",
      "[[5 8]\n",
      " [0 0]] \n",
      "\n",
      "[[-1  8]\n",
      " [ 0  0]] \n",
      "\n"
     ]
    }
   ],
   "metadata": {}
  },
  {
   "cell_type": "code",
   "execution_count": 232,
   "source": [
    "\"\"\"\r\n",
    "Reshaping of Arrays\r\n",
    "\"\"\"\r\n",
    "\r\n",
    "arr = np.arange(1, 10)\r\n",
    "print(arr, \"\\n\")\r\n",
    "\r\n",
    "grid = arr.reshape(3, 3)\r\n",
    "print(grid)"
   ],
   "outputs": [
    {
     "output_type": "stream",
     "name": "stdout",
     "text": [
      "[1 2 3 4 5 6 7 8 9] \n",
      "\n",
      "[[1 2 3]\n",
      " [4 5 6]\n",
      " [7 8 9]]\n"
     ]
    }
   ],
   "metadata": {}
  },
  {
   "cell_type": "code",
   "execution_count": 242,
   "source": [
    "# np.newaxis\r\n",
    "arr = np.array([1, 2, 3])\r\n",
    "print(arr)\r\n",
    "print(\"arr.ndim = \", arr.ndim)\r\n",
    "print(\"arr.shape = \", arr.shape)\r\n",
    "\r\n",
    "print(\"\\n\")\r\n",
    "\r\n",
    "arr_new = arr[:, np.newaxis]\r\n",
    "print(arr_new)\r\n",
    "print(\"arr_new.ndim = \", arr_new.ndim)\r\n",
    "print(\"arr_new.shape = \", arr_new.shape)"
   ],
   "outputs": [
    {
     "output_type": "stream",
     "name": "stdout",
     "text": [
      "[1 2 3]\n",
      "arr.ndim =  1\n",
      "arr.shape =  (3,)\n",
      "\n",
      "\n",
      "[[1]\n",
      " [2]\n",
      " [3]]\n",
      "arr_new.ndim =  2\n",
      "arr_new.shape =  (3, 1)\n"
     ]
    }
   ],
   "metadata": {}
  },
  {
   "cell_type": "code",
   "execution_count": 249,
   "source": [
    "\"\"\"\r\n",
    "Array Concatenation\r\n",
    "\"\"\"\r\n",
    "\r\n",
    "arr_1 = np.array([1, 2, 3])\r\n",
    "arr_2 = np.array([4, 5, 6])\r\n",
    "arr_3 = np.array([7, 8, 9])\r\n",
    "\r\n",
    "arr_total = np.concatenate([arr_1, arr_2, arr_3])\r\n",
    "print(arr_total)\r\n",
    "\r\n",
    "arr_total = np.vstack([arr_1, arr_2, arr_3])\r\n",
    "print(arr_total)"
   ],
   "outputs": [
    {
     "output_type": "stream",
     "name": "stdout",
     "text": [
      "[1 2 3 4 5 6 7 8 9]\n",
      "[[1 2 3]\n",
      " [4 5 6]\n",
      " [7 8 9]]\n"
     ]
    }
   ],
   "metadata": {}
  },
  {
   "cell_type": "code",
   "execution_count": 254,
   "source": [
    "\"\"\"\r\n",
    "Array Splitting\r\n",
    "\"\"\"\r\n",
    "\r\n",
    "arr = [1, 2, 3, 99, 99, 3, 2, 1]\r\n",
    "print(arr)\r\n",
    "\r\n",
    "arr_1, arr_2, arr3 = np.split(arr, [3, 5])\r\n",
    "print(arr_1, arr_2, arr_3)"
   ],
   "outputs": [
    {
     "output_type": "stream",
     "name": "stdout",
     "text": [
      "[1, 2, 3, 99, 99, 3, 2, 1]\n",
      "[1 2 3] [99 99] [7 8 9]\n"
     ]
    }
   ],
   "metadata": {}
  }
 ],
 "metadata": {
  "orig_nbformat": 4,
  "language_info": {
   "name": "python",
   "version": "3.8.8",
   "mimetype": "text/x-python",
   "codemirror_mode": {
    "name": "ipython",
    "version": 3
   },
   "pygments_lexer": "ipython3",
   "nbconvert_exporter": "python",
   "file_extension": ".py"
  },
  "kernelspec": {
   "name": "python3",
   "display_name": "Python 3.8.8 64-bit ('base': conda)"
  },
  "interpreter": {
   "hash": "96eb50e1d44aed467dc8f759cb08c32fbfa9babcf79c554e2d0e5feb04653a10"
  }
 },
 "nbformat": 4,
 "nbformat_minor": 2
}