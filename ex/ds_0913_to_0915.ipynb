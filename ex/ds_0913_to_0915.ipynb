{
 "cells": [
  {
   "cell_type": "code",
   "execution_count": 8,
   "id": "4d1cd0a6-89fc-47f2-8ece-2162df7a7c5f",
   "metadata": {},
   "outputs": [
    {
     "name": "stdout",
     "output_type": "stream",
     "text": [
      "Hello World!\n",
      "100\n",
      "3.14\n",
      "My name is GiHyeon Ju and I'm tired.\n"
     ]
    }
   ],
   "source": [
    "\"\"\"\n",
    "print() Function\n",
    "\"\"\"\n",
    "\n",
    "print(\"Hello World!\")\n",
    "print(100)\n",
    "pi = 3.14\n",
    "print(pi)\n",
    "\n",
    "introduce = \"My name is \"\n",
    "name = \"GiHyeon Ju\"\n",
    "\n",
    "print(introduce + name + \" and I'm tired.\")"
   ]
  },
  {
   "cell_type": "code",
   "execution_count": 12,
   "id": "d71640f4-0bf0-4d1e-bed8-547b6b47d99c",
   "metadata": {},
   "outputs": [],
   "source": [
    "\"\"\"\n",
    "Variables\n",
    "\"\"\"\n",
    "\n",
    "user_name = \"GiHyeon Ju\"\n",
    "user_id = 20210024\n",
    "user_email = \"jugh98@hs.ac.kr\"\n",
    "is_student = True\n",
    "my_eyes = 1.2\n",
    "type(my_eyes)\n",
    "\n",
    "# 본인을 표현할 수 있는 정보를 변수로 정의해 보세요. 3가지.\n",
    "\n",
    "address = \"seoul\"\n",
    "user_age = 24\n",
    "user_fat = False"
   ]
  },
  {
   "cell_type": "code",
   "execution_count": 16,
   "id": "5722d899-373e-4644-a1fd-1ee2ab07c366",
   "metadata": {},
   "outputs": [
    {
     "name": "stdout",
     "output_type": "stream",
     "text": [
      "x =  1\n",
      "Address of x:  140728617805616\n",
      "x =  2\n",
      "Address of x:  140728617805648\n"
     ]
    }
   ],
   "source": [
    "\"\"\"\n",
    "Variable: Assignment\n",
    "\"\"\"\n",
    "\n",
    "x = 1\n",
    "print(\"x = \", x)\n",
    "print(\"Address of x: \", id(x))\n",
    "\n",
    "x = 2\n",
    "print(\"x = \", x)\n",
    "print(\"Address of x: \", id(x))"
   ]
  },
  {
   "cell_type": "code",
   "execution_count": 20,
   "id": "66f26e33-e48e-466e-bd5c-cd1f2dbea2e1",
   "metadata": {},
   "outputs": [],
   "source": [
    "\"\"\"\n",
    "Data Types: Integers\n",
    "\"\"\"\n",
    "\n",
    "# 본인 집에 있는 사물의 개수를 정수 유형의 변수로 표현하시오.\n",
    "\n",
    "tv = 1\n",
    "broken_phone = -3\n",
    "can_coffee = 47\n",
    "speaker = 7\n",
    "mic = 4"
   ]
  },
  {
   "cell_type": "code",
   "execution_count": 21,
   "id": "f3003281-5eb7-4f92-bb5b-a352793161f5",
   "metadata": {},
   "outputs": [],
   "source": [
    "\"\"\"\n",
    "Data Types: Real Numbers\n",
    "\"\"\"\n",
    "\n",
    "pi = 3.14\n",
    "kospi_index = 3125.76\n",
    "krw_usd_exchange = 1176.83\n",
    "\n",
    "# 본인이 알고 있는 세 개의 실수를 변수로 표현하시오.\n",
    "# 위의 예시와 중복 x\n",
    "\n",
    "golden_ratio = 1.61803398875\n",
    "my_grade = 3.1\n",
    "my_temperature = 36.5"
   ]
  },
  {
   "cell_type": "code",
   "execution_count": 1,
   "id": "aba69a78-b84a-4b5e-a21c-5c502511f88a",
   "metadata": {},
   "outputs": [
    {
     "name": "stdout",
     "output_type": "stream",
     "text": [
      "Best is Best Starcraft Sonny\n",
      "Love userself\n",
      "Americano\n",
      "Malboro\n"
     ]
    }
   ],
   "source": [
    "\"\"\"\n",
    "Data Types: String\n",
    "\"\"\"\n",
    "\n",
    "favorite_motto = \"Best is Best\"\n",
    "favorite_game = \"Starcraft\"\n",
    "favorite_athelete = \"Sonny\"\n",
    "favorites = favorite_motto + \" \" + favorite_game + \" \" + favorite_athelete\n",
    "print(favorites)\n",
    "\n",
    "# 본인이 좋아하는 것들을 문자열의 변수로 표현하시오.\n",
    "\n",
    "favorite_music = \"Love userself\"\n",
    "favorite_coffee = \"Americano\"\n",
    "favorite_cigar = \"Malboro\"\n",
    "\n",
    "favorite_list = favorite_music + \"\\n\" + favorite_coffee + \"\\n\" + favorite_cigar\n",
    "print(favorite_list)"
   ]
  },
  {
   "cell_type": "code",
   "execution_count": 11,
   "id": "27fd8576-1512-4b23-8fea-dc994626f8f1",
   "metadata": {},
   "outputs": [
    {
     "name": "stdout",
     "output_type": "stream",
     "text": [
      "[ERROR]: y is not declared.\n",
      "continue...\n"
     ]
    }
   ],
   "source": [
    "\"\"\"\n",
    "Exception Handling\n",
    "\"\"\"\n",
    "\n",
    "x = 1\n",
    "\n",
    "try:\n",
    "    print(y)\n",
    "    print(x)\n",
    "except:\n",
    "    print(\"[ERROR]: y is not declared.\")\n",
    "\n",
    "print(\"continue...\")"
   ]
  },
  {
   "cell_type": "code",
   "execution_count": null,
   "id": "d31c59d2-5e3d-4fcf-a94d-84a82360f64d",
   "metadata": {},
   "outputs": [],
   "source": []
  }
 ],
 "metadata": {
  "kernelspec": {
   "display_name": "Python 3",
   "language": "python",
   "name": "python3"
  },
  "language_info": {
   "codemirror_mode": {
    "name": "ipython",
    "version": 3
   },
   "file_extension": ".py",
   "mimetype": "text/x-python",
   "name": "python",
   "nbconvert_exporter": "python",
   "pygments_lexer": "ipython3",
   "version": "3.8.8"
  }
 },
 "nbformat": 4,
 "nbformat_minor": 5
}
