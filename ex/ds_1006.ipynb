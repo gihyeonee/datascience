{
 "cells": [
  {
   "cell_type": "code",
   "execution_count": 1,
   "metadata": {},
   "outputs": [],
   "source": [
    "import numpy as np"
   ]
  },
  {
   "cell_type": "code",
   "execution_count": 13,
   "metadata": {},
   "outputs": [
    {
     "name": "stdout",
     "output_type": "stream",
     "text": [
      "[6 1 4 4 8]\n",
      "[0.16666667 1.         0.25       0.25       0.125     ]\n"
     ]
    }
   ],
   "source": [
    "\"\"\"\n",
    "Computing reciprocals in loops\n",
    "\"\"\"\n",
    "\n",
    "# Function for computing reciprocals using looping\n",
    "def compute_reciprocals(values):\n",
    "    output = np.empty(len(values))\n",
    "    for i in range(len(values)):\n",
    "        output[i] = 1.0 / values[i]\n",
    "    return output\n",
    "\n",
    "np.random.seed(0)\n",
    "values = np.random.randint(1, 10, size=5)\n",
    "print(values)\n",
    "\n",
    "output = compute_reciprocals(values)\n",
    "print(output)"
   ]
  },
  {
   "cell_type": "code",
   "execution_count": 18,
   "metadata": {},
   "outputs": [
    {
     "name": "stdout",
     "output_type": "stream",
     "text": [
      "[79 11 71 ... 58 51 56]\n",
      "1.56 s ± 5.97 ms per loop (mean ± std. dev. of 7 runs, 1 loop each)\n"
     ]
    }
   ],
   "source": [
    "\"\"\"\n",
    "Comparison: Loop vs ufuncs(vectorized)\n",
    "\"\"\"\n",
    "\n",
    "big_array = np.random.randint(1, 100, size=1000000)\n",
    "print(big_array)\n",
    "\n",
    "# Looping on a big array\n",
    "\n",
    "%timeit compute_reciprocals(big_array)"
   ]
  },
  {
   "cell_type": "code",
   "execution_count": 20,
   "metadata": {},
   "outputs": [
    {
     "name": "stdout",
     "output_type": "stream",
     "text": [
      "2.63 ms ± 41 µs per loop (mean ± std. dev. of 7 runs, 100 loops each)\n"
     ]
    }
   ],
   "source": [
    "# Vectorized operations\n",
    "\n",
    "%timeit 1 / big_array"
   ]
  },
  {
   "cell_type": "code",
   "execution_count": 28,
   "metadata": {},
   "outputs": [
    {
     "name": "stdout",
     "output_type": "stream",
     "text": [
      "[5 8 9 5 0] [0 1 7 6 9]\n",
      "[ 3  6  7  3 -2]\n",
      "[ 3  7 14  9  7] \n",
      "\n",
      "[[2 4 5 2 4]\n",
      " [2 4 7 7 9]\n",
      " [1 7 0 6 9]] \n",
      "\n",
      "[[ 4 16 25  4 16]\n",
      " [ 4 16 49 49 81]\n",
      " [ 1 49  0 36 81]]\n"
     ]
    }
   ],
   "source": [
    "\"\"\"\n",
    "numpy.ufunc\n",
    "\"\"\"\n",
    "\n",
    "np.random.seed(1)\n",
    "arr1 = np.random.randint(10, size=5)\n",
    "arr2 = np.random.randint(10, size=5)\n",
    "print(arr1, arr2)\n",
    "\n",
    "arr1 -= 2\n",
    "print(arr1)\n",
    "\n",
    "arr3 = arr1 + arr2\n",
    "print(arr3, \"\\n\")\n",
    "\n",
    "arr4 = np.random.randint(10, size=(3, 5))\n",
    "print(arr4, \"\\n\")\n",
    "\n",
    "print(arr4 ** 2)"
   ]
  },
  {
   "cell_type": "code",
   "execution_count": 36,
   "metadata": {},
   "outputs": [
    {
     "name": "stdout",
     "output_type": "stream",
     "text": [
      "[5. 5. 2. 1.]\n"
     ]
    }
   ],
   "source": [
    "\"\"\"\n",
    "UFuncs: Absolute Value\n",
    "\"\"\"\n",
    "\n",
    "x = np.array([-2, -1, 0 ,1, 2])\n",
    "np.abs(x)\n",
    "\n",
    "x = np.array([3-4j, 4-3j, 2+0j, 0+1j])\n",
    "print(np.abs(x))"
   ]
  },
  {
   "cell_type": "code",
   "execution_count": 43,
   "metadata": {},
   "outputs": [
    {
     "name": "stdout",
     "output_type": "stream",
     "text": [
      "[0.         1.57079633 3.14159265]\n",
      "[0.0000000e+00 1.0000000e+00 1.2246468e-16]\n",
      "[ 1.000000e+00  6.123234e-17 -1.000000e+00]\n",
      "[ 0.00000000e+00  1.63312394e+16 -1.22464680e-16]\n"
     ]
    }
   ],
   "source": [
    "\"\"\"\n",
    "UFuncs: Trigonmetric Functions\n",
    "\"\"\"\n",
    "\n",
    "theta = np.linspace(0, np.pi, 3)\n",
    "print(theta)\n",
    "print(np.sin(theta))\n",
    "print(np.cos(theta))\n",
    "print(np.tan(theta))"
   ]
  },
  {
   "cell_type": "code",
   "execution_count": 59,
   "metadata": {},
   "outputs": [
    {
     "name": "stdout",
     "output_type": "stream",
     "text": [
      "[1 2 3 4] \n",
      "\n",
      "10 \n",
      "\n",
      "24 \n",
      "\n",
      "[ 1  3  6 10] \n",
      "\n",
      "[ 1  2  6 24] \n",
      "\n"
     ]
    }
   ],
   "source": [
    "\"\"\"\n",
    "UFuncs: Aggregation\n",
    "\"\"\"\n",
    "\n",
    "x = np.arange(1, 5)\n",
    "print(x, \"\\n\")\n",
    "aggr = np.add.reduce(x)\n",
    "print(aggr,\"\\n\")\n",
    "\n",
    "aggr = np.multiply.reduce(x)\n",
    "print(aggr, \"\\n\")\n",
    "\n",
    "accum = np.add.accumulate(x)\n",
    "print(accum, \"\\n\")\n",
    "\n",
    "accum = np.multiply.accumulate(x)\n",
    "print(accum, \"\\n\")"
   ]
  },
  {
   "cell_type": "code",
   "execution_count": 82,
   "metadata": {},
   "outputs": [
    {
     "name": "stdout",
     "output_type": "stream",
     "text": [
      "[0.5507979  0.70814782 0.29090474 ... 0.93033748 0.80429816 0.47400579]\n",
      "sum = 500422.19897015305\n"
     ]
    }
   ],
   "source": [
    "# Summing the Values in an Array\n",
    "np.random.seed(3)\n",
    "\n",
    "arr = np.random.rand(1000000)\n",
    "print(arr)\n",
    "\n",
    "print(\"sum =\", np.sum(arr))"
   ]
  },
  {
   "cell_type": "code",
   "execution_count": 87,
   "metadata": {},
   "outputs": [
    {
     "name": "stdout",
     "output_type": "stream",
     "text": [
      "63.6 ms ± 736 µs per loop (mean ± std. dev. of 7 runs, 10 loops each)\n"
     ]
    }
   ],
   "source": [
    "%timeit sum(arr) # python style"
   ]
  },
  {
   "cell_type": "code",
   "execution_count": 90,
   "metadata": {},
   "outputs": [
    {
     "name": "stdout",
     "output_type": "stream",
     "text": [
      "749 µs ± 18 µs per loop (mean ± std. dev. of 7 runs, 1000 loops each)\n"
     ]
    }
   ],
   "source": [
    "%timeit np.sum(arr)"
   ]
  },
  {
   "cell_type": "code",
   "execution_count": 197,
   "metadata": {},
   "outputs": [
    {
     "name": "stdout",
     "output_type": "stream",
     "text": [
      "[0.5507979  0.70814782 0.29090474 ... 0.93033748 0.80429816 0.47400579]\n",
      "max = 0.9999996367889004\n",
      "min = 1.5496004267534502e-06\n",
      "mean = 0.500422198970153\n",
      "median = 0.5005659265960778\n",
      "percentile = 0.9001765340710965\n",
      "False\n",
      "True\n"
     ]
    }
   ],
   "source": [
    "#other Aggr. functions\n",
    "\n",
    "print(arr)\n",
    "print(\"max =\" ,np.max(arr))\n",
    "print(\"min =\", np.min(arr))\n",
    "print(\"mean =\", np.mean(arr))\n",
    "print(\"median =\", np.median(arr))\n",
    "print(\"percentile =\", np.percentile(arr, 90))\n",
    "\n",
    "print(np.any(arr>1))\n",
    "print(np.all(arr>0))"
   ]
  },
  {
   "cell_type": "code",
   "execution_count": 201,
   "metadata": {},
   "outputs": [
    {
     "name": "stdout",
     "output_type": "stream",
     "text": [
      "[[3 6 6 0]\n",
      " [9 8 4 7]\n",
      " [0 0 7 1]] \n",
      "\n",
      "[12 14 17  8]\n",
      "[15 28  8]\n"
     ]
    }
   ],
   "source": [
    "# Multi dimesional aggregates\n",
    "\n",
    "np.random.seed(5)\n",
    "arr = np.random.randint(10, size=(3, 4))\n",
    "print(arr, \"\\n\")\n",
    "\n",
    "print(np.sum(arr, axis=0))\n",
    "print(np.sum(arr, axis=1))"
   ]
  }
 ],
 "metadata": {
  "interpreter": {
   "hash": "96eb50e1d44aed467dc8f759cb08c32fbfa9babcf79c554e2d0e5feb04653a10"
  },
  "kernelspec": {
   "display_name": "Python 3.8.8 64-bit ('base': conda)",
   "name": "python3"
  },
  "language_info": {
   "codemirror_mode": {
    "name": "ipython",
    "version": 3
   },
   "file_extension": ".py",
   "mimetype": "text/x-python",
   "name": "python",
   "nbconvert_exporter": "python",
   "pygments_lexer": "ipython3",
   "version": "3.8.8"
  },
  "orig_nbformat": 4
 },
 "nbformat": 4,
 "nbformat_minor": 2
}
