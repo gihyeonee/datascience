{
 "cells": [
  {
   "cell_type": "code",
   "execution_count": 1,
   "source": [
    "import numpy as np"
   ],
   "outputs": [],
   "metadata": {}
  },
  {
   "cell_type": "code",
   "execution_count": 13,
   "source": [
    "\"\"\"\r\n",
    "Computing reciprocals in loops\r\n",
    "\"\"\"\r\n",
    "\r\n",
    "# Function for computing reciprocals using looping\r\n",
    "def compute_reciprocals(values):\r\n",
    "    output = np.empty(len(values))\r\n",
    "    for i in range(len(values)):\r\n",
    "        output[i] = 1.0 / values[i]\r\n",
    "    return output\r\n",
    "\r\n",
    "np.random.seed(0)\r\n",
    "values = np.random.randint(1, 10, size=5)\r\n",
    "print(values)\r\n",
    "\r\n",
    "output = compute_reciprocals(values)\r\n",
    "print(output)"
   ],
   "outputs": [
    {
     "output_type": "stream",
     "name": "stdout",
     "text": [
      "[6 1 4 4 8]\n",
      "[0.16666667 1.         0.25       0.25       0.125     ]\n"
     ]
    }
   ],
   "metadata": {}
  },
  {
   "cell_type": "code",
   "execution_count": 18,
   "source": [
    "\"\"\"\r\n",
    "Comparison: Loop vs ufuncs(vectorized)\r\n",
    "\"\"\"\r\n",
    "\r\n",
    "big_array = np.random.randint(1, 100, size=1000000)\r\n",
    "print(big_array)\r\n",
    "\r\n",
    "# Looping on a big array\r\n",
    "\r\n",
    "%timeit compute_reciprocals(big_array)"
   ],
   "outputs": [
    {
     "output_type": "stream",
     "name": "stdout",
     "text": [
      "[79 11 71 ... 58 51 56]\n",
      "1.56 s ± 5.97 ms per loop (mean ± std. dev. of 7 runs, 1 loop each)\n"
     ]
    }
   ],
   "metadata": {}
  },
  {
   "cell_type": "code",
   "execution_count": 20,
   "source": [
    "# Vectorized operations\r\n",
    "\r\n",
    "%timeit 1 / big_array"
   ],
   "outputs": [
    {
     "output_type": "stream",
     "name": "stdout",
     "text": [
      "2.63 ms ± 41 µs per loop (mean ± std. dev. of 7 runs, 100 loops each)\n"
     ]
    }
   ],
   "metadata": {}
  },
  {
   "cell_type": "code",
   "execution_count": 28,
   "source": [
    "\"\"\"\r\n",
    "numpy.ufunc\r\n",
    "\"\"\"\r\n",
    "\r\n",
    "np.random.seed(1)\r\n",
    "arr1 = np.random.randint(10, size=5)\r\n",
    "arr2 = np.random.randint(10, size=5)\r\n",
    "print(arr1, arr2)\r\n",
    "\r\n",
    "arr1 -= 2\r\n",
    "print(arr1)\r\n",
    "\r\n",
    "arr3 = arr1 + arr2\r\n",
    "print(arr3, \"\\n\")\r\n",
    "\r\n",
    "arr4 = np.random.randint(10, size=(3, 5))\r\n",
    "print(arr4, \"\\n\")\r\n",
    "\r\n",
    "print(arr4 ** 2)"
   ],
   "outputs": [
    {
     "output_type": "stream",
     "name": "stdout",
     "text": [
      "[5 8 9 5 0] [0 1 7 6 9]\n",
      "[ 3  6  7  3 -2]\n",
      "[ 3  7 14  9  7] \n",
      "\n",
      "[[2 4 5 2 4]\n",
      " [2 4 7 7 9]\n",
      " [1 7 0 6 9]] \n",
      "\n",
      "[[ 4 16 25  4 16]\n",
      " [ 4 16 49 49 81]\n",
      " [ 1 49  0 36 81]]\n"
     ]
    }
   ],
   "metadata": {}
  },
  {
   "cell_type": "code",
   "execution_count": 36,
   "source": [
    "\"\"\"\r\n",
    "UFuncs: Absolute Value\r\n",
    "\"\"\"\r\n",
    "\r\n",
    "x = np.array([-2, -1, 0 ,1, 2])\r\n",
    "np.abs(x)\r\n",
    "\r\n",
    "x = np.array([3-4j, 4-3j, 2+0j, 0+1j])\r\n",
    "print(np.abs(x))"
   ],
   "outputs": [
    {
     "output_type": "stream",
     "name": "stdout",
     "text": [
      "[5. 5. 2. 1.]\n"
     ]
    }
   ],
   "metadata": {}
  },
  {
   "cell_type": "code",
   "execution_count": 43,
   "source": [
    "\"\"\"\r\n",
    "UFuncs: Trigonmetric Functions\r\n",
    "\"\"\"\r\n",
    "\r\n",
    "theta = np.linspace(0, np.pi, 3)\r\n",
    "print(theta)\r\n",
    "print(np.sin(theta))\r\n",
    "print(np.cos(theta))\r\n",
    "print(np.tan(theta))"
   ],
   "outputs": [
    {
     "output_type": "stream",
     "name": "stdout",
     "text": [
      "[0.         1.57079633 3.14159265]\n",
      "[0.0000000e+00 1.0000000e+00 1.2246468e-16]\n",
      "[ 1.000000e+00  6.123234e-17 -1.000000e+00]\n",
      "[ 0.00000000e+00  1.63312394e+16 -1.22464680e-16]\n"
     ]
    }
   ],
   "metadata": {}
  },
  {
   "cell_type": "code",
   "execution_count": 59,
   "source": [
    "\"\"\"\r\n",
    "UFuncs: Aggregation\r\n",
    "\"\"\"\r\n",
    "\r\n",
    "x = np.arange(1, 5)\r\n",
    "print(x, \"\\n\")\r\n",
    "aggr = np.add.reduce(x)\r\n",
    "print(aggr,\"\\n\")\r\n",
    "\r\n",
    "aggr = np.multiply.reduce(x)\r\n",
    "print(aggr, \"\\n\")\r\n",
    "\r\n",
    "accum = np.add.accumulate(x)\r\n",
    "print(accum, \"\\n\")\r\n",
    "\r\n",
    "accum = np.multiply.accumulate(x)\r\n",
    "print(accum, \"\\n\")"
   ],
   "outputs": [
    {
     "output_type": "stream",
     "name": "stdout",
     "text": [
      "[1 2 3 4] \n",
      "\n",
      "10 \n",
      "\n",
      "24 \n",
      "\n",
      "[ 1  3  6 10] \n",
      "\n",
      "[ 1  2  6 24] \n",
      "\n"
     ]
    }
   ],
   "metadata": {}
  },
  {
   "cell_type": "code",
   "execution_count": 82,
   "source": [
    "# Summing the Values in an Array\r\n",
    "np.random.seed(3)\r\n",
    "\r\n",
    "arr = np.random.rand(1000000)\r\n",
    "print(arr)\r\n",
    "\r\n",
    "print(\"sum =\", np.sum(arr))"
   ],
   "outputs": [
    {
     "output_type": "stream",
     "name": "stdout",
     "text": [
      "[0.5507979  0.70814782 0.29090474 ... 0.93033748 0.80429816 0.47400579]\n",
      "sum = 500422.19897015305\n"
     ]
    }
   ],
   "metadata": {}
  },
  {
   "cell_type": "code",
   "execution_count": 87,
   "source": [
    "%timeit sum(arr) # python style"
   ],
   "outputs": [
    {
     "output_type": "stream",
     "name": "stdout",
     "text": [
      "63.6 ms ± 736 µs per loop (mean ± std. dev. of 7 runs, 10 loops each)\n"
     ]
    }
   ],
   "metadata": {}
  },
  {
   "cell_type": "code",
   "execution_count": 90,
   "source": [
    "%timeit np.sum(arr)"
   ],
   "outputs": [
    {
     "output_type": "stream",
     "name": "stdout",
     "text": [
      "749 µs ± 18 µs per loop (mean ± std. dev. of 7 runs, 1000 loops each)\n"
     ]
    }
   ],
   "metadata": {}
  },
  {
   "cell_type": "code",
   "execution_count": 197,
   "source": [
    "#other Aggr. functions\r\n",
    "\r\n",
    "print(arr)\r\n",
    "print(\"max =\" ,np.max(arr))\r\n",
    "print(\"min =\", np.min(arr))\r\n",
    "print(\"mean =\", np.mean(arr))\r\n",
    "print(\"median =\", np.median(arr))\r\n",
    "print(\"percentile =\", np.percentile(arr, 90))\r\n",
    "\r\n",
    "print(np.any(arr>1))\r\n",
    "print(np.all(arr>0))"
   ],
   "outputs": [
    {
     "output_type": "stream",
     "name": "stdout",
     "text": [
      "[0.5507979  0.70814782 0.29090474 ... 0.93033748 0.80429816 0.47400579]\n",
      "max = 0.9999996367889004\n",
      "min = 1.5496004267534502e-06\n",
      "mean = 0.500422198970153\n",
      "median = 0.5005659265960778\n",
      "percentile = 0.9001765340710965\n",
      "False\n",
      "True\n"
     ]
    }
   ],
   "metadata": {}
  },
  {
   "cell_type": "code",
   "execution_count": 201,
   "source": [
    "# Multi dimesional aggregates\r\n",
    "\r\n",
    "np.random.seed(5)\r\n",
    "arr = np.random.randint(10, size=(3, 4))\r\n",
    "print(arr, \"\\n\")\r\n",
    "\r\n",
    "print(np.sum(arr, axis=0))\r\n",
    "print(np.sum(arr, axis=1))"
   ],
   "outputs": [
    {
     "output_type": "stream",
     "name": "stdout",
     "text": [
      "[[3 6 6 0]\n",
      " [9 8 4 7]\n",
      " [0 0 7 1]] \n",
      "\n",
      "[12 14 17  8]\n",
      "[15 28  8]\n"
     ]
    }
   ],
   "metadata": {}
  }
 ],
 "metadata": {
  "orig_nbformat": 4,
  "language_info": {
   "name": "python",
   "version": "3.8.8",
   "mimetype": "text/x-python",
   "codemirror_mode": {
    "name": "ipython",
    "version": 3
   },
   "pygments_lexer": "ipython3",
   "nbconvert_exporter": "python",
   "file_extension": ".py"
  },
  "kernelspec": {
   "name": "python3",
   "display_name": "Python 3.8.8 64-bit ('base': conda)"
  },
  "interpreter": {
   "hash": "96eb50e1d44aed467dc8f759cb08c32fbfa9babcf79c554e2d0e5feb04653a10"
  }
 },
 "nbformat": 4,
 "nbformat_minor": 2
}