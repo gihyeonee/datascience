{
 "cells": [
  {
   "cell_type": "code",
   "execution_count": 15,
   "source": [
    "# Functions vs Method\r\n",
    "def my_function(x):\r\n",
    "    return x+1\r\n",
    "\r\n",
    "y = 2\r\n",
    "result = my_function(y)\r\n",
    "print(result)\r\n",
    "\r\n",
    "\r\n",
    "\r\n",
    "# Method\r\n",
    "x = 1\r\n",
    "class my_class:\r\n",
    "    def my_method(self):\r\n",
    "        return x + 1\r\n",
    "\r\n",
    "cls = my_class()\r\n",
    "\r\n",
    "print(cls.my_method())"
   ],
   "outputs": [
    {
     "output_type": "stream",
     "name": "stdout",
     "text": [
      "3\n",
      "2\n"
     ]
    }
   ],
   "metadata": {}
  },
  {
   "cell_type": "code",
   "execution_count": 18,
   "source": [
    "# Function Parameters\r\n",
    "def introduce_myself(name, birthyear, city):\r\n",
    "    print(\"Hello everyone, my name is %s, I was born in %d, \\\r\n",
    "        and I live in %s.\" % (name, birthyear, city))\r\n",
    "\r\n",
    "introduce_myself(\"GiHyeon Ju\", 1998, \"Seoul\")"
   ],
   "outputs": [
    {
     "output_type": "stream",
     "name": "stdout",
     "text": [
      "Hello everyone, my name is GiHyeon Ju, I was born in 1998,         and I live in Seoul.\n"
     ]
    }
   ],
   "metadata": {}
  },
  {
   "cell_type": "code",
   "execution_count": 21,
   "source": [
    "# Return Keyword\r\n",
    "\r\n",
    "# leap year = 윤년\r\n",
    "def check_leap_year(year):\r\n",
    "    if year % 4 == 0:\r\n",
    "        return \"%d is a leap year.\" % (year)\r\n",
    "    else:\r\n",
    "        return \"%d is not a leap year.\" % (year)\r\n",
    "\r\n",
    "print(check_leap_year(2020))"
   ],
   "outputs": [
    {
     "output_type": "stream",
     "name": "stdout",
     "text": [
      "2020 is a leap year.\n"
     ]
    }
   ],
   "metadata": {}
  },
  {
   "cell_type": "code",
   "execution_count": 23,
   "source": [
    "# Returning Multiple Values\r\n",
    "def square_point(x, y, z):\r\n",
    "    x_squared = x ** 2\r\n",
    "    y_squared = y ** 2\r\n",
    "    z_squared = z ** 2\r\n",
    "    return x_squared, y_squared, z_squared\r\n",
    "\r\n",
    "three_squared, four_squared, five_squared = square_point(3, 4, 5)\r\n",
    "print(three_squared, four_squared, five_squared)"
   ],
   "outputs": [
    {
     "output_type": "stream",
     "name": "stdout",
     "text": [
      "9 16 25\n"
     ]
    }
   ],
   "metadata": {}
  },
  {
   "cell_type": "code",
   "execution_count": 25,
   "source": [
    "# Global Variables\r\n",
    "a = \"Hello\"\r\n",
    "\r\n",
    "def prints_a():\r\n",
    "    print(a)\r\n",
    "\r\n",
    "prints_a()"
   ],
   "outputs": [
    {
     "output_type": "stream",
     "name": "stdout",
     "text": [
      "Hello\n"
     ]
    }
   ],
   "metadata": {}
  },
  {
   "cell_type": "code",
   "execution_count": 31,
   "source": [
    "# Local Variables\r\n",
    "a = 5 # global var.\r\n",
    "\r\n",
    "def f1():\r\n",
    "    g = 3 # local var.\r\n",
    "    print(g)\r\n",
    "\r\n",
    "f1()"
   ],
   "outputs": [
    {
     "output_type": "stream",
     "name": "stdout",
     "text": [
      "3\n"
     ]
    }
   ],
   "metadata": {}
  },
  {
   "cell_type": "code",
   "execution_count": 37,
   "source": [
    "# Keyword Arguments and Default Values\r\n",
    "def findvolume(height=1, width=1, depth=1):\r\n",
    "    print(\"Height = \" + str(height)) # str(): 어떤 값을 문자열 값으로 변환\r\n",
    "    print(\"Width = \" + str(width))\r\n",
    "    print(\"Depth = \" + str(depth))\r\n",
    "\r\n",
    "findvolume(1, 2, 3)\r\n",
    "findvolume(depth=3, width=2, height=1)"
   ],
   "outputs": [
    {
     "output_type": "stream",
     "name": "stdout",
     "text": [
      "Height = 1\n",
      "Width = 2\n",
      "Depth = 3\n",
      "Height = 1\n",
      "Width = 2\n",
      "Depth = 3\n"
     ]
    }
   ],
   "metadata": {}
  }
 ],
 "metadata": {
  "orig_nbformat": 4,
  "language_info": {
   "name": "python",
   "version": "3.8.8",
   "mimetype": "text/x-python",
   "codemirror_mode": {
    "name": "ipython",
    "version": 3
   },
   "pygments_lexer": "ipython3",
   "nbconvert_exporter": "python",
   "file_extension": ".py"
  },
  "kernelspec": {
   "name": "python3",
   "display_name": "Python 3.8.8 64-bit ('base': conda)"
  },
  "interpreter": {
   "hash": "96eb50e1d44aed467dc8f759cb08c32fbfa9babcf79c554e2d0e5feb04653a10"
  }
 },
 "nbformat": 4,
 "nbformat_minor": 2
}