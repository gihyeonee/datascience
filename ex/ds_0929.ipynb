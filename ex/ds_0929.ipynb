{
 "cells": [
  {
   "cell_type": "code",
   "execution_count": 8,
   "source": [
    "import numpy as np\r\n",
    "import pandas as pd\r\n",
    "from matplotlib import pyplot as plt"
   ],
   "outputs": [],
   "metadata": {}
  },
  {
   "cell_type": "code",
   "execution_count": 11,
   "source": [
    "# Creating a NumPy Array\r\n",
    "\r\n",
    "arr = np.array([1, 2])\r\n",
    "print(arr)\r\n",
    "\r\n",
    "a = np.array([1, \"A\" ,True])\r\n",
    "print(a.dtype)\r\n",
    "\r\n",
    "b = np.array([1, 2, 3])\r\n",
    "print(b.dtype)\r\n",
    "\r\n",
    "c = np.array([1.1, 2.3])\r\n",
    "print(c.dtype)"
   ],
   "outputs": [
    {
     "output_type": "stream",
     "name": "stdout",
     "text": [
      "[1 2]\n",
      "<U11\n",
      "int32\n",
      "float64\n"
     ]
    }
   ],
   "metadata": {}
  },
  {
   "cell_type": "code",
   "execution_count": 17,
   "source": [
    "# Size Comparison of ndarray and list objects\r\n",
    "from sys import getsizeof\r\n",
    "\r\n",
    "lst = [1 ,2, 3, 4, 5, 6, 7, 8, 9, 10]\r\n",
    "print(getsizeof(lst))\r\n",
    "\r\n",
    "arr = np.array([1, 2, 3, 4, 5, 6, 7, 8, 9, 10])\r\n",
    "print(getsizeof(arr))"
   ],
   "outputs": [
    {
     "output_type": "stream",
     "name": "stdout",
     "text": [
      "136\n",
      "144\n"
     ]
    }
   ],
   "metadata": {}
  },
  {
   "cell_type": "code",
   "execution_count": 21,
   "source": [
    "# operation and np.sqrt\r\n",
    "lst = [1, 2, 3]\r\n",
    "arr = np.array(lst)\r\n",
    "arr = np.sqrt(arr)\r\n",
    "print(arr)"
   ],
   "outputs": [
    {
     "output_type": "stream",
     "name": "stdout",
     "text": [
      "[1.         1.41421356 1.73205081]\n"
     ]
    }
   ],
   "metadata": {}
  },
  {
   "cell_type": "code",
   "execution_count": 36,
   "source": [
    "# Exercise\r\n",
    "\r\n",
    "test_1 = np.array([92, 94, 88, 91 ,87])\r\n",
    "test_2 = np.array([79, 100, 86, 93, 91])\r\n",
    "test_3 = np.array([87, 85, 72, 90, 92])\r\n",
    "\r\n",
    "test_3_fixed = test_3 + 2\r\n",
    "print(test_3_fixed)\r\n",
    "\r\n",
    "total_grade = test_1 + test_2 + test_3_fixed\r\n",
    "print(total_grade)\r\n",
    "\r\n",
    "final_grade = total_grade / 3\r\n",
    "print(final_grade)\r\n",
    "\r\n",
    "\r\n",
    "jeremy_test_2 = test_2[3]\r\n",
    "print(jeremy_test_2)\r\n",
    "\r\n",
    "manual_adwoa_test_1 = [test_1[1], test_1[2]]\r\n",
    "print(manual_adwoa_test_1)\r\n",
    "\r\n",
    "student_scores = np.array([test_1, test_2, test_3])\r\n",
    "print(student_scores)\r\n",
    "\r\n",
    "print(student_scores[2][0])\r\n",
    "\r\n",
    "print(student_scores[:, 3])"
   ],
   "outputs": [
    {
     "output_type": "stream",
     "name": "stdout",
     "text": [
      "[89 87 74 92 94]\n",
      "[260 281 248 276 272]\n",
      "[86.66666667 93.66666667 82.66666667 92.         90.66666667]\n",
      "93\n",
      "[94, 88]\n",
      "[[ 92  94  88  91  87]\n",
      " [ 79 100  86  93  91]\n",
      " [ 87  85  72  90  92]]\n",
      "87\n",
      "[91 93 90]\n"
     ]
    }
   ],
   "metadata": {}
  },
  {
   "cell_type": "code",
   "execution_count": 39,
   "source": [
    "# Logical Operations with Arrays\r\n",
    "\r\n",
    "arr = np.array([1, 2, 3, 4, 5, 6, 7, 8, 9, 10])\r\n",
    "mask = arr > 5\r\n",
    "print(mask)\r\n",
    "\r\n",
    "\r\n",
    "selected = arr[(arr > 5) & (arr < 8)]\r\n",
    "print(selected)"
   ],
   "outputs": [
    {
     "output_type": "stream",
     "name": "stdout",
     "text": [
      "[False False False False False  True  True  True  True  True]\n",
      "[6 7]\n"
     ]
    }
   ],
   "metadata": {}
  }
 ],
 "metadata": {
  "orig_nbformat": 4,
  "language_info": {
   "name": "python",
   "version": "3.8.8",
   "mimetype": "text/x-python",
   "codemirror_mode": {
    "name": "ipython",
    "version": 3
   },
   "pygments_lexer": "ipython3",
   "nbconvert_exporter": "python",
   "file_extension": ".py"
  },
  "kernelspec": {
   "name": "python3",
   "display_name": "Python 3.8.8 64-bit ('base': conda)"
  },
  "interpreter": {
   "hash": "96eb50e1d44aed467dc8f759cb08c32fbfa9babcf79c554e2d0e5feb04653a10"
  }
 },
 "nbformat": 4,
 "nbformat_minor": 2
}