{
 "cells": [
  {
   "cell_type": "code",
   "execution_count": 30,
   "id": "bdaefed7-f1a1-49c4-9324-09140b406dc8",
   "metadata": {},
   "outputs": [
    {
     "name": "stdout",
     "output_type": "stream",
     "text": [
      "[['physics', 98], ['calculus', 97], ['poetry', 85], ['history', 88]] \n",
      "\n",
      "[['physics', 98], ['calculus', 97], ['poetry', 85], ['history', 88], ['computer science', 100], ['visual arts', 93]] \n",
      "\n",
      "[['physics', 98], ['calculus', 97], ['poetry', 'pass'], ['history', 88], ['computer science', 100], ['visual arts', 98]] \n",
      "\n",
      "[['politics', 80], ['latin', 96], ['dance', 97], ['architecture', 65], ['physics', 98], ['calculus', 97], ['poetry', 'pass'], ['history', 88], ['computer science', 100], ['visual arts', 98]]\n"
     ]
    }
   ],
   "source": [
    "# Data Science homework2 gradebook\n",
    "# 201736011 GiHyeon Ju\n",
    "\n",
    "#1\n",
    "subjects = ['physics', 'calculus', 'poetry', 'history']\n",
    "\n",
    "#2\n",
    "grades = [98, 97, 85, 88]\n",
    "\n",
    "#3\n",
    "gradebook = [[subjects[0], grades[0]], [subjects[1], grades[1]], [subjects[2], grades[2]], [subjects[3], grades[3]]]\n",
    "# gradebook = [[s, g] for s, g in zip(subjects, grades)]\n",
    "\n",
    "#4\n",
    "print(gradebook, '\\n')\n",
    "\n",
    "#5\n",
    "gradebook.append(['computer science', 100])\n",
    "\n",
    "#6\n",
    "gradebook.append(['visual arts', 93])\n",
    "print(gradebook, '\\n')\n",
    "\n",
    "#7\n",
    "gradebook[5][1] += 5\n",
    "\n",
    "#8\n",
    "gradebook[2].remove(85)\n",
    "\n",
    "#9\n",
    "gradebook[2].append('pass')\n",
    "print(gradebook, '\\n')\n",
    "\n",
    "#10\n",
    "last_semester_gradebook = [['politics', 80], ['latin', 96], ['dance', 97], ['architecture', 65]]\n",
    "\n",
    "full_gradebook = last_semester_gradebook + gradebook\n",
    "\n",
    "print(full_gradebook)"
   ]
  }
 ],
 "metadata": {
  "kernelspec": {
   "display_name": "Python 3",
   "language": "python",
   "name": "python3"
  },
  "language_info": {
   "codemirror_mode": {
    "name": "ipython",
    "version": 3
   },
   "file_extension": ".py",
   "mimetype": "text/x-python",
   "name": "python",
   "nbconvert_exporter": "python",
   "pygments_lexer": "ipython3",
   "version": "3.8.8"
  }
 },
 "nbformat": 4,
 "nbformat_minor": 5
}
