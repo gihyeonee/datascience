{
 "cells": [
  {
   "cell_type": "code",
   "execution_count": 2,
   "source": [
    "# Data Science homework3 Carly's Clippers\r\n",
    "# 201736011 GiHyeon Ju\r\n",
    "\r\n",
    "hairstyles = [\"bouffant\", \"pixie\", \"dreadlocks\", \"crew\", \"bowl\", \"bob\", \"mohawk\", \"flattop\"]\r\n",
    "\r\n",
    "prices = [30, 25, 40, 20, 20, 35, 50, 35]\r\n",
    "\r\n",
    "last_week = [2, 3, 5, 8, 4, 4, 6, 2]\r\n",
    "\r\n",
    "#1\r\n",
    "total_price = 0\r\n",
    "\r\n",
    "#2\r\n",
    "for i in prices:\r\n",
    "    total_price += i\r\n",
    "\r\n",
    "#3\r\n",
    "average_price = total_price/len(prices)\r\n",
    "\r\n",
    "#4\r\n",
    "print(average_price)\r\n",
    "\r\n",
    "#5\r\n",
    "new_prices = []\r\n",
    "for i in prices:\r\n",
    "    new_prices.append(i-5)\r\n",
    "\r\n",
    "#6\r\n",
    "print(new_prices)\r\n",
    "\r\n",
    "#7\r\n",
    "total_revenue = 0\r\n",
    "\r\n",
    "#8, 9\r\n",
    "for i in range(0, len(hairstyles)):\r\n",
    "    total_revenue += prices[i] * last_week[i]\r\n",
    "\r\n",
    "#10\r\n",
    "print(total_revenue)\r\n",
    "\r\n",
    "#11\r\n",
    "average_daily_revenue = total_revenue/7\r\n",
    "print(\"Average daily revenue is\", average_daily_revenue)\r\n",
    "\r\n",
    "#12\r\n",
    "cuts_under_30 = []\r\n",
    "for i in range(len(new_prices)):\r\n",
    "    if new_prices[i] < 30:\r\n",
    "        cuts_under_30.append(hairstyles[i])\r\n",
    "\r\n",
    "#13\r\n",
    "print(cuts_under_30)"
   ],
   "outputs": [
    {
     "output_type": "stream",
     "name": "stdout",
     "text": [
      "31.875\n",
      "[25, 20, 35, 15, 15, 30, 45, 30]\n",
      "1085\n",
      "Average daily revenue is 155.0\n",
      "['bouffant', 'pixie', 'crew', 'bowl']\n"
     ]
    }
   ],
   "metadata": {}
  }
 ],
 "metadata": {
  "orig_nbformat": 4,
  "language_info": {
   "name": "python",
   "version": "3.8.8",
   "mimetype": "text/x-python",
   "codemirror_mode": {
    "name": "ipython",
    "version": 3
   },
   "pygments_lexer": "ipython3",
   "nbconvert_exporter": "python",
   "file_extension": ".py"
  },
  "kernelspec": {
   "name": "python3",
   "display_name": "Python 3.8.8 64-bit ('base': conda)"
  },
  "interpreter": {
   "hash": "96eb50e1d44aed467dc8f759cb08c32fbfa9babcf79c554e2d0e5feb04653a10"
  }
 },
 "nbformat": 4,
 "nbformat_minor": 2
}