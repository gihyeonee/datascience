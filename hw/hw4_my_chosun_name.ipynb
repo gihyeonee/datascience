{
 "cells": [
  {
   "cell_type": "code",
   "execution_count": 20,
   "source": [
    "# Data Science homework4 My chosun name\r\n",
    "# 201736011 GiHyeon Ju\r\n",
    "\r\n",
    "#1\r\n",
    "month = ['쌍', '쇠', '복', '돌', '팽', '육', '쌍', '개', '칠', '갑', '삼', '방']\r\n",
    "\r\n",
    "#2\r\n",
    "day = ['봉', '구', '욕', '포', '똥', '삼', '식', '석', '놈', '님', '년', '돌', '단', '득', '방', '질', '장', '걸', '래', '룡', '동', '순', '자', '박', '창', '언', '것', '포', '만', '단', '국']\r\n",
    "\r\n",
    "#3, 4\r\n",
    "def get_my_name_num():\r\n",
    "    family_name = input(\"당신의 성은 무엇입니까? : \")\r\n",
    "    birth_month = input(\"당신은 몇 월 생입니까? : \")\r\n",
    "    birth_day = input(\"당신은 몇 일에 태어났습니까? : \")\r\n",
    "    return family_name, birth_month, birth_day\r\n",
    "\r\n",
    "def get_my_chosun_name():\r\n",
    "    name_num = get_my_name_num()\r\n",
    "    chosun_name_month = month[int(name_num[1]) - 1]\r\n",
    "    chosun_name_day = day[int(name_num[2]) - 1]\r\n",
    "    print(\"당신의 조선시대 이름은 %s%s%s 입니다.\" %(name_num[0], chosun_name_month, chosun_name_day))\r\n",
    "\r\n",
    "get_my_chosun_name()"
   ],
   "outputs": [
    {
     "output_type": "stream",
     "name": "stdout",
     "text": [
      "당신의 조선시대 이름은 주방봉 입니다.\n"
     ]
    }
   ],
   "metadata": {}
  },
  {
   "cell_type": "code",
   "execution_count": 3,
   "source": [
    "# Data Science homework4 My chosun name\r\n",
    "# 201736011 GiHyeon Ju\r\n",
    "\r\n",
    "#1\r\n",
    "month = ['쌍', '쇠', '복', '돌', '팽', '육', '쌍', '개', '칠', '갑', '삼', '방']\r\n",
    "\r\n",
    "#2\r\n",
    "day = ['봉', '구', '욕', '포', '똥', '삼', '식', '석', '놈', '님', '년', '돌', '단', '득', '방', '질', '장', '걸', '래', '룡', '동', '순', '자', '박', '창', '언', '것', '포', '만', '단', '국']\r\n",
    "\r\n",
    "#3, 4\r\n",
    "def get_my_name_num():\r\n",
    "    month_range = list(range(1, 13))\r\n",
    "    day_range = list(range(1, 32))\r\n",
    "    family_name = input(\"당신의 성은 무엇입니까? : \")\r\n",
    "\r\n",
    "    while True:\r\n",
    "        birth_month = input(\"당신은 몇 월 생입니까? : \")\r\n",
    "        if birth_month.isnumeric() == True:\r\n",
    "            birth_month = int(birth_month)\r\n",
    "            if birth_month not in month_range:\r\n",
    "                print(\"다시 입력해 주세요.\")\r\n",
    "                continue\r\n",
    "            else:\r\n",
    "                break\r\n",
    "        else:\r\n",
    "            print(\"다시 입력해 주세요.\")\r\n",
    "\r\n",
    "    while True:\r\n",
    "        birth_day = input(\"당신은 몇 일 생입니까? : \")\r\n",
    "        if birth_day.isnumeric() == True:\r\n",
    "            birth_day = int(birth_day)\r\n",
    "            if birth_day not in day_range:\r\n",
    "                print(\"다시 입력해 주세요.\")\r\n",
    "                continue\r\n",
    "            else:\r\n",
    "                break\r\n",
    "        else:\r\n",
    "            print(\"다시 입력해 주세요.\")\r\n",
    "\r\n",
    "    return family_name, birth_month, birth_day\r\n",
    "\r\n",
    "def get_my_chosun_name():\r\n",
    "    name_num = get_my_name_num()\r\n",
    "    chosun_name_month = month[name_num[1] - 1]\r\n",
    "    chosun_name_day = day[name_num[2] - 1]\r\n",
    "    print(\"당신의 조선시대 이름은 %s%s%s 입니다.\" %(name_num[0], chosun_name_month, chosun_name_day))\r\n",
    "\r\n",
    "get_my_chosun_name()"
   ],
   "outputs": [
    {
     "output_type": "stream",
     "name": "stdout",
     "text": [
      "당신의 조선시대 이름은 주방봉 입니다.\n"
     ]
    }
   ],
   "metadata": {}
  }
 ],
 "metadata": {
  "orig_nbformat": 4,
  "language_info": {
   "name": "python",
   "version": "3.8.8",
   "mimetype": "text/x-python",
   "codemirror_mode": {
    "name": "ipython",
    "version": 3
   },
   "pygments_lexer": "ipython3",
   "nbconvert_exporter": "python",
   "file_extension": ".py"
  },
  "kernelspec": {
   "name": "python3",
   "display_name": "Python 3.8.8 64-bit ('base': conda)"
  },
  "interpreter": {
   "hash": "96eb50e1d44aed467dc8f759cb08c32fbfa9babcf79c554e2d0e5feb04653a10"
  }
 },
 "nbformat": 4,
 "nbformat_minor": 2
}